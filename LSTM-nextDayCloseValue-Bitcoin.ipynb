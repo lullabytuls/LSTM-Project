{
  "nbformat": 4,
  "nbformat_minor": 0,
  "metadata": {
    "colab": {
      "provenance": [],
      "gpuType": "T4"
    },
    "kernelspec": {
      "name": "python3",
      "display_name": "Python 3"
    },
    "language_info": {
      "name": "python"
    },
    "accelerator": "GPU"
  },
  "cells": [
    {
      "cell_type": "code",
      "execution_count": 3,
      "metadata": {
        "id": "wTl3mRGBCDyl"
      },
      "outputs": [],
      "source": [
        "#importing some of the libraries initially\n",
        "\n",
        "import os\n",
        "import pandas as pd\n",
        "import numpy as np\n",
        "import math\n",
        "import datetime as dt\n",
        "import matplotlib.pyplot as plt\n",
        "import sklearn"
      ]
    },
    {
      "cell_type": "code",
      "source": [
        "df = pd.read_csv('/content/BTC-USD-v2.csv') #constructing the dataframe"
      ],
      "metadata": {
        "id": "lUObAFWMCeeh"
      },
      "execution_count": 4,
      "outputs": []
    },
    {
      "cell_type": "markdown",
      "source": [
        "# **DATA ANALYSIS**"
      ],
      "metadata": {
        "id": "WQqXpjBJEHG5"
      }
    },
    {
      "cell_type": "code",
      "source": [
        "df.head()"
      ],
      "metadata": {
        "colab": {
          "base_uri": "https://localhost:8080/",
          "height": 206
        },
        "id": "hFlprzTaDBJw",
        "outputId": "e3217851-acdb-4c4a-ad5d-d0711c100899"
      },
      "execution_count": 5,
      "outputs": [
        {
          "output_type": "execute_result",
          "data": {
            "text/plain": [
              "         Date        Open        High         Low       Close   Adj Close  \\\n",
              "0  2014-09-17  465.864014  468.174011  452.421997  457.334015  457.334015   \n",
              "1  2014-09-18  456.859985  456.859985  413.104004  424.440002  424.440002   \n",
              "2  2014-09-19  424.102997  427.834991  384.532013  394.795990  394.795990   \n",
              "3  2014-09-20  394.673004  423.295990  389.882996  408.903992  408.903992   \n",
              "4  2014-09-21  408.084991  412.425995  393.181000  398.821014  398.821014   \n",
              "\n",
              "     Volume  \n",
              "0  21056800  \n",
              "1  34483200  \n",
              "2  37919700  \n",
              "3  36863600  \n",
              "4  26580100  "
            ],
            "text/html": [
              "\n",
              "  <div id=\"df-ed7de343-6b04-4b04-9eae-251a73db11be\">\n",
              "    <div class=\"colab-df-container\">\n",
              "      <div>\n",
              "<style scoped>\n",
              "    .dataframe tbody tr th:only-of-type {\n",
              "        vertical-align: middle;\n",
              "    }\n",
              "\n",
              "    .dataframe tbody tr th {\n",
              "        vertical-align: top;\n",
              "    }\n",
              "\n",
              "    .dataframe thead th {\n",
              "        text-align: right;\n",
              "    }\n",
              "</style>\n",
              "<table border=\"1\" class=\"dataframe\">\n",
              "  <thead>\n",
              "    <tr style=\"text-align: right;\">\n",
              "      <th></th>\n",
              "      <th>Date</th>\n",
              "      <th>Open</th>\n",
              "      <th>High</th>\n",
              "      <th>Low</th>\n",
              "      <th>Close</th>\n",
              "      <th>Adj Close</th>\n",
              "      <th>Volume</th>\n",
              "    </tr>\n",
              "  </thead>\n",
              "  <tbody>\n",
              "    <tr>\n",
              "      <th>0</th>\n",
              "      <td>2014-09-17</td>\n",
              "      <td>465.864014</td>\n",
              "      <td>468.174011</td>\n",
              "      <td>452.421997</td>\n",
              "      <td>457.334015</td>\n",
              "      <td>457.334015</td>\n",
              "      <td>21056800</td>\n",
              "    </tr>\n",
              "    <tr>\n",
              "      <th>1</th>\n",
              "      <td>2014-09-18</td>\n",
              "      <td>456.859985</td>\n",
              "      <td>456.859985</td>\n",
              "      <td>413.104004</td>\n",
              "      <td>424.440002</td>\n",
              "      <td>424.440002</td>\n",
              "      <td>34483200</td>\n",
              "    </tr>\n",
              "    <tr>\n",
              "      <th>2</th>\n",
              "      <td>2014-09-19</td>\n",
              "      <td>424.102997</td>\n",
              "      <td>427.834991</td>\n",
              "      <td>384.532013</td>\n",
              "      <td>394.795990</td>\n",
              "      <td>394.795990</td>\n",
              "      <td>37919700</td>\n",
              "    </tr>\n",
              "    <tr>\n",
              "      <th>3</th>\n",
              "      <td>2014-09-20</td>\n",
              "      <td>394.673004</td>\n",
              "      <td>423.295990</td>\n",
              "      <td>389.882996</td>\n",
              "      <td>408.903992</td>\n",
              "      <td>408.903992</td>\n",
              "      <td>36863600</td>\n",
              "    </tr>\n",
              "    <tr>\n",
              "      <th>4</th>\n",
              "      <td>2014-09-21</td>\n",
              "      <td>408.084991</td>\n",
              "      <td>412.425995</td>\n",
              "      <td>393.181000</td>\n",
              "      <td>398.821014</td>\n",
              "      <td>398.821014</td>\n",
              "      <td>26580100</td>\n",
              "    </tr>\n",
              "  </tbody>\n",
              "</table>\n",
              "</div>\n",
              "      <button class=\"colab-df-convert\" onclick=\"convertToInteractive('df-ed7de343-6b04-4b04-9eae-251a73db11be')\"\n",
              "              title=\"Convert this dataframe to an interactive table.\"\n",
              "              style=\"display:none;\">\n",
              "        \n",
              "  <svg xmlns=\"http://www.w3.org/2000/svg\" height=\"24px\"viewBox=\"0 0 24 24\"\n",
              "       width=\"24px\">\n",
              "    <path d=\"M0 0h24v24H0V0z\" fill=\"none\"/>\n",
              "    <path d=\"M18.56 5.44l.94 2.06.94-2.06 2.06-.94-2.06-.94-.94-2.06-.94 2.06-2.06.94zm-11 1L8.5 8.5l.94-2.06 2.06-.94-2.06-.94L8.5 2.5l-.94 2.06-2.06.94zm10 10l.94 2.06.94-2.06 2.06-.94-2.06-.94-.94-2.06-.94 2.06-2.06.94z\"/><path d=\"M17.41 7.96l-1.37-1.37c-.4-.4-.92-.59-1.43-.59-.52 0-1.04.2-1.43.59L10.3 9.45l-7.72 7.72c-.78.78-.78 2.05 0 2.83L4 21.41c.39.39.9.59 1.41.59.51 0 1.02-.2 1.41-.59l7.78-7.78 2.81-2.81c.8-.78.8-2.07 0-2.86zM5.41 20L4 18.59l7.72-7.72 1.47 1.35L5.41 20z\"/>\n",
              "  </svg>\n",
              "      </button>\n",
              "      \n",
              "  <style>\n",
              "    .colab-df-container {\n",
              "      display:flex;\n",
              "      flex-wrap:wrap;\n",
              "      gap: 12px;\n",
              "    }\n",
              "\n",
              "    .colab-df-convert {\n",
              "      background-color: #E8F0FE;\n",
              "      border: none;\n",
              "      border-radius: 50%;\n",
              "      cursor: pointer;\n",
              "      display: none;\n",
              "      fill: #1967D2;\n",
              "      height: 32px;\n",
              "      padding: 0 0 0 0;\n",
              "      width: 32px;\n",
              "    }\n",
              "\n",
              "    .colab-df-convert:hover {\n",
              "      background-color: #E2EBFA;\n",
              "      box-shadow: 0px 1px 2px rgba(60, 64, 67, 0.3), 0px 1px 3px 1px rgba(60, 64, 67, 0.15);\n",
              "      fill: #174EA6;\n",
              "    }\n",
              "\n",
              "    [theme=dark] .colab-df-convert {\n",
              "      background-color: #3B4455;\n",
              "      fill: #D2E3FC;\n",
              "    }\n",
              "\n",
              "    [theme=dark] .colab-df-convert:hover {\n",
              "      background-color: #434B5C;\n",
              "      box-shadow: 0px 1px 3px 1px rgba(0, 0, 0, 0.15);\n",
              "      filter: drop-shadow(0px 1px 2px rgba(0, 0, 0, 0.3));\n",
              "      fill: #FFFFFF;\n",
              "    }\n",
              "  </style>\n",
              "\n",
              "      <script>\n",
              "        const buttonEl =\n",
              "          document.querySelector('#df-ed7de343-6b04-4b04-9eae-251a73db11be button.colab-df-convert');\n",
              "        buttonEl.style.display =\n",
              "          google.colab.kernel.accessAllowed ? 'block' : 'none';\n",
              "\n",
              "        async function convertToInteractive(key) {\n",
              "          const element = document.querySelector('#df-ed7de343-6b04-4b04-9eae-251a73db11be');\n",
              "          const dataTable =\n",
              "            await google.colab.kernel.invokeFunction('convertToInteractive',\n",
              "                                                     [key], {});\n",
              "          if (!dataTable) return;\n",
              "\n",
              "          const docLinkHtml = 'Like what you see? Visit the ' +\n",
              "            '<a target=\"_blank\" href=https://colab.research.google.com/notebooks/data_table.ipynb>data table notebook</a>'\n",
              "            + ' to learn more about interactive tables.';\n",
              "          element.innerHTML = '';\n",
              "          dataTable['output_type'] = 'display_data';\n",
              "          await google.colab.output.renderOutput(dataTable, element);\n",
              "          const docLink = document.createElement('div');\n",
              "          docLink.innerHTML = docLinkHtml;\n",
              "          element.appendChild(docLink);\n",
              "        }\n",
              "      </script>\n",
              "    </div>\n",
              "  </div>\n",
              "  "
            ]
          },
          "metadata": {},
          "execution_count": 5
        }
      ]
    },
    {
      "cell_type": "code",
      "source": [
        "df.info()"
      ],
      "metadata": {
        "colab": {
          "base_uri": "https://localhost:8080/"
        },
        "id": "_cWoHKbMDUVj",
        "outputId": "0ccf349c-5478-41af-c886-79ed15cab16b"
      },
      "execution_count": 6,
      "outputs": [
        {
          "output_type": "stream",
          "name": "stdout",
          "text": [
            "<class 'pandas.core.frame.DataFrame'>\n",
            "RangeIndex: 2306 entries, 0 to 2305\n",
            "Data columns (total 7 columns):\n",
            " #   Column     Non-Null Count  Dtype  \n",
            "---  ------     --------------  -----  \n",
            " 0   Date       2306 non-null   object \n",
            " 1   Open       2306 non-null   float64\n",
            " 2   High       2306 non-null   float64\n",
            " 3   Low        2306 non-null   float64\n",
            " 4   Close      2306 non-null   float64\n",
            " 5   Adj Close  2306 non-null   float64\n",
            " 6   Volume     2306 non-null   int64  \n",
            "dtypes: float64(5), int64(1), object(1)\n",
            "memory usage: 126.2+ KB\n"
          ]
        }
      ]
    },
    {
      "cell_type": "code",
      "source": [
        "len(df)"
      ],
      "metadata": {
        "colab": {
          "base_uri": "https://localhost:8080/"
        },
        "id": "0OBuk1TwC_Tw",
        "outputId": "80673335-95c0-4d69-aed8-266f23f6c543"
      },
      "execution_count": 7,
      "outputs": [
        {
          "output_type": "execute_result",
          "data": {
            "text/plain": [
              "2306"
            ]
          },
          "metadata": {},
          "execution_count": 7
        }
      ]
    },
    {
      "cell_type": "code",
      "source": [
        "df.isnull().values.sum() #checking whether there is any null value or not"
      ],
      "metadata": {
        "colab": {
          "base_uri": "https://localhost:8080/"
        },
        "id": "TNt5ZsvPDjdX",
        "outputId": "8154395f-0495-46d8-a7a8-0afc10f37de1"
      },
      "execution_count": 8,
      "outputs": [
        {
          "output_type": "execute_result",
          "data": {
            "text/plain": [
              "0"
            ]
          },
          "metadata": {},
          "execution_count": 8
        }
      ]
    },
    {
      "cell_type": "code",
      "source": [
        "StartDate = df.iloc[0][0]\n",
        "EndDate = df.iloc[-1][0]\n",
        "print(\"Start Date: \" + StartDate)\n",
        "print(\"End Date: \" + EndDate)"
      ],
      "metadata": {
        "colab": {
          "base_uri": "https://localhost:8080/"
        },
        "id": "_4qBtFAfD0BO",
        "outputId": "a3fe7ea6-1da6-451d-f850-88d917ac33b7"
      },
      "execution_count": 9,
      "outputs": [
        {
          "output_type": "stream",
          "name": "stdout",
          "text": [
            "Start Date: 2014-09-17\n",
            "End Date: 2021-01-08\n"
          ]
        }
      ]
    },
    {
      "cell_type": "code",
      "source": [
        "analysis_df = pd.read_csv('/content/BTC-USD-v2.csv', index_col = 'Date', parse_dates=True)"
      ],
      "metadata": {
        "id": "9RArLTTQIpOm"
      },
      "execution_count": 10,
      "outputs": []
    },
    {
      "cell_type": "code",
      "source": [
        "analysis_df.drop(analysis_df[['Adj Close', 'Volume']], axis=1)"
      ],
      "metadata": {
        "colab": {
          "base_uri": "https://localhost:8080/",
          "height": 455
        },
        "id": "drSXToylJE_2",
        "outputId": "49344f4f-deb1-4091-ac24-8669fabf7e57"
      },
      "execution_count": 11,
      "outputs": [
        {
          "output_type": "execute_result",
          "data": {
            "text/plain": [
              "                    Open          High           Low         Close\n",
              "Date                                                              \n",
              "2014-09-17    465.864014    468.174011    452.421997    457.334015\n",
              "2014-09-18    456.859985    456.859985    413.104004    424.440002\n",
              "2014-09-19    424.102997    427.834991    384.532013    394.795990\n",
              "2014-09-20    394.673004    423.295990    389.882996    408.903992\n",
              "2014-09-21    408.084991    412.425995    393.181000    398.821014\n",
              "...                  ...           ...           ...           ...\n",
              "2021-01-04  32810.949219  33440.218750  28722.755859  31971.914063\n",
              "2021-01-05  31977.041016  34437.589844  30221.187500  33992.429688\n",
              "2021-01-06  34013.613281  36879.699219  33514.035156  36824.363281\n",
              "2021-01-07  36833.875000  40180.367188  36491.191406  39371.042969\n",
              "2021-01-08  41507.257813  41941.566406  37115.578125  40147.148438\n",
              "\n",
              "[2306 rows x 4 columns]"
            ],
            "text/html": [
              "\n",
              "  <div id=\"df-be06cdea-71ec-43a9-8811-15ec07a6654e\">\n",
              "    <div class=\"colab-df-container\">\n",
              "      <div>\n",
              "<style scoped>\n",
              "    .dataframe tbody tr th:only-of-type {\n",
              "        vertical-align: middle;\n",
              "    }\n",
              "\n",
              "    .dataframe tbody tr th {\n",
              "        vertical-align: top;\n",
              "    }\n",
              "\n",
              "    .dataframe thead th {\n",
              "        text-align: right;\n",
              "    }\n",
              "</style>\n",
              "<table border=\"1\" class=\"dataframe\">\n",
              "  <thead>\n",
              "    <tr style=\"text-align: right;\">\n",
              "      <th></th>\n",
              "      <th>Open</th>\n",
              "      <th>High</th>\n",
              "      <th>Low</th>\n",
              "      <th>Close</th>\n",
              "    </tr>\n",
              "    <tr>\n",
              "      <th>Date</th>\n",
              "      <th></th>\n",
              "      <th></th>\n",
              "      <th></th>\n",
              "      <th></th>\n",
              "    </tr>\n",
              "  </thead>\n",
              "  <tbody>\n",
              "    <tr>\n",
              "      <th>2014-09-17</th>\n",
              "      <td>465.864014</td>\n",
              "      <td>468.174011</td>\n",
              "      <td>452.421997</td>\n",
              "      <td>457.334015</td>\n",
              "    </tr>\n",
              "    <tr>\n",
              "      <th>2014-09-18</th>\n",
              "      <td>456.859985</td>\n",
              "      <td>456.859985</td>\n",
              "      <td>413.104004</td>\n",
              "      <td>424.440002</td>\n",
              "    </tr>\n",
              "    <tr>\n",
              "      <th>2014-09-19</th>\n",
              "      <td>424.102997</td>\n",
              "      <td>427.834991</td>\n",
              "      <td>384.532013</td>\n",
              "      <td>394.795990</td>\n",
              "    </tr>\n",
              "    <tr>\n",
              "      <th>2014-09-20</th>\n",
              "      <td>394.673004</td>\n",
              "      <td>423.295990</td>\n",
              "      <td>389.882996</td>\n",
              "      <td>408.903992</td>\n",
              "    </tr>\n",
              "    <tr>\n",
              "      <th>2014-09-21</th>\n",
              "      <td>408.084991</td>\n",
              "      <td>412.425995</td>\n",
              "      <td>393.181000</td>\n",
              "      <td>398.821014</td>\n",
              "    </tr>\n",
              "    <tr>\n",
              "      <th>...</th>\n",
              "      <td>...</td>\n",
              "      <td>...</td>\n",
              "      <td>...</td>\n",
              "      <td>...</td>\n",
              "    </tr>\n",
              "    <tr>\n",
              "      <th>2021-01-04</th>\n",
              "      <td>32810.949219</td>\n",
              "      <td>33440.218750</td>\n",
              "      <td>28722.755859</td>\n",
              "      <td>31971.914063</td>\n",
              "    </tr>\n",
              "    <tr>\n",
              "      <th>2021-01-05</th>\n",
              "      <td>31977.041016</td>\n",
              "      <td>34437.589844</td>\n",
              "      <td>30221.187500</td>\n",
              "      <td>33992.429688</td>\n",
              "    </tr>\n",
              "    <tr>\n",
              "      <th>2021-01-06</th>\n",
              "      <td>34013.613281</td>\n",
              "      <td>36879.699219</td>\n",
              "      <td>33514.035156</td>\n",
              "      <td>36824.363281</td>\n",
              "    </tr>\n",
              "    <tr>\n",
              "      <th>2021-01-07</th>\n",
              "      <td>36833.875000</td>\n",
              "      <td>40180.367188</td>\n",
              "      <td>36491.191406</td>\n",
              "      <td>39371.042969</td>\n",
              "    </tr>\n",
              "    <tr>\n",
              "      <th>2021-01-08</th>\n",
              "      <td>41507.257813</td>\n",
              "      <td>41941.566406</td>\n",
              "      <td>37115.578125</td>\n",
              "      <td>40147.148438</td>\n",
              "    </tr>\n",
              "  </tbody>\n",
              "</table>\n",
              "<p>2306 rows × 4 columns</p>\n",
              "</div>\n",
              "      <button class=\"colab-df-convert\" onclick=\"convertToInteractive('df-be06cdea-71ec-43a9-8811-15ec07a6654e')\"\n",
              "              title=\"Convert this dataframe to an interactive table.\"\n",
              "              style=\"display:none;\">\n",
              "        \n",
              "  <svg xmlns=\"http://www.w3.org/2000/svg\" height=\"24px\"viewBox=\"0 0 24 24\"\n",
              "       width=\"24px\">\n",
              "    <path d=\"M0 0h24v24H0V0z\" fill=\"none\"/>\n",
              "    <path d=\"M18.56 5.44l.94 2.06.94-2.06 2.06-.94-2.06-.94-.94-2.06-.94 2.06-2.06.94zm-11 1L8.5 8.5l.94-2.06 2.06-.94-2.06-.94L8.5 2.5l-.94 2.06-2.06.94zm10 10l.94 2.06.94-2.06 2.06-.94-2.06-.94-.94-2.06-.94 2.06-2.06.94z\"/><path d=\"M17.41 7.96l-1.37-1.37c-.4-.4-.92-.59-1.43-.59-.52 0-1.04.2-1.43.59L10.3 9.45l-7.72 7.72c-.78.78-.78 2.05 0 2.83L4 21.41c.39.39.9.59 1.41.59.51 0 1.02-.2 1.41-.59l7.78-7.78 2.81-2.81c.8-.78.8-2.07 0-2.86zM5.41 20L4 18.59l7.72-7.72 1.47 1.35L5.41 20z\"/>\n",
              "  </svg>\n",
              "      </button>\n",
              "      \n",
              "  <style>\n",
              "    .colab-df-container {\n",
              "      display:flex;\n",
              "      flex-wrap:wrap;\n",
              "      gap: 12px;\n",
              "    }\n",
              "\n",
              "    .colab-df-convert {\n",
              "      background-color: #E8F0FE;\n",
              "      border: none;\n",
              "      border-radius: 50%;\n",
              "      cursor: pointer;\n",
              "      display: none;\n",
              "      fill: #1967D2;\n",
              "      height: 32px;\n",
              "      padding: 0 0 0 0;\n",
              "      width: 32px;\n",
              "    }\n",
              "\n",
              "    .colab-df-convert:hover {\n",
              "      background-color: #E2EBFA;\n",
              "      box-shadow: 0px 1px 2px rgba(60, 64, 67, 0.3), 0px 1px 3px 1px rgba(60, 64, 67, 0.15);\n",
              "      fill: #174EA6;\n",
              "    }\n",
              "\n",
              "    [theme=dark] .colab-df-convert {\n",
              "      background-color: #3B4455;\n",
              "      fill: #D2E3FC;\n",
              "    }\n",
              "\n",
              "    [theme=dark] .colab-df-convert:hover {\n",
              "      background-color: #434B5C;\n",
              "      box-shadow: 0px 1px 3px 1px rgba(0, 0, 0, 0.15);\n",
              "      filter: drop-shadow(0px 1px 2px rgba(0, 0, 0, 0.3));\n",
              "      fill: #FFFFFF;\n",
              "    }\n",
              "  </style>\n",
              "\n",
              "      <script>\n",
              "        const buttonEl =\n",
              "          document.querySelector('#df-be06cdea-71ec-43a9-8811-15ec07a6654e button.colab-df-convert');\n",
              "        buttonEl.style.display =\n",
              "          google.colab.kernel.accessAllowed ? 'block' : 'none';\n",
              "\n",
              "        async function convertToInteractive(key) {\n",
              "          const element = document.querySelector('#df-be06cdea-71ec-43a9-8811-15ec07a6654e');\n",
              "          const dataTable =\n",
              "            await google.colab.kernel.invokeFunction('convertToInteractive',\n",
              "                                                     [key], {});\n",
              "          if (!dataTable) return;\n",
              "\n",
              "          const docLinkHtml = 'Like what you see? Visit the ' +\n",
              "            '<a target=\"_blank\" href=https://colab.research.google.com/notebooks/data_table.ipynb>data table notebook</a>'\n",
              "            + ' to learn more about interactive tables.';\n",
              "          element.innerHTML = '';\n",
              "          dataTable['output_type'] = 'display_data';\n",
              "          await google.colab.output.renderOutput(dataTable, element);\n",
              "          const docLink = document.createElement('div');\n",
              "          docLink.innerHTML = docLinkHtml;\n",
              "          element.appendChild(docLink);\n",
              "        }\n",
              "      </script>\n",
              "    </div>\n",
              "  </div>\n",
              "  "
            ]
          },
          "metadata": {},
          "execution_count": 11
        }
      ]
    },
    {
      "cell_type": "code",
      "source": [
        "analysis_df.plot(figsize=(12,6))"
      ],
      "metadata": {
        "colab": {
          "base_uri": "https://localhost:8080/",
          "height": 575
        },
        "id": "-h-Q7-tUFxy3",
        "outputId": "87c678cd-b2d3-443f-be15-25f675fe7bbd"
      },
      "execution_count": 13,
      "outputs": [
        {
          "output_type": "execute_result",
          "data": {
            "text/plain": [
              "<Axes: xlabel='Date'>"
            ]
          },
          "metadata": {},
          "execution_count": 13
        },
        {
          "output_type": "display_data",
          "data": {
            "text/plain": [
              "<Figure size 1200x600 with 1 Axes>"
            ],
            "image/png": "[encoded data removed]"
          },
          "metadata": {}
        }
      ]
    },
    {
      "cell_type": "code",
      "source": [
        "train_df = df[['Date','Close']]"
      ],
      "metadata": {
        "id": "SZVbYyERN2jm"
      },
      "execution_count": 14,
      "outputs": []
    },
    {
      "cell_type": "code",
      "source": [
        "train_df.plot(x='Date',figsize=(12,6))"
      ],
      "metadata": {
        "colab": {
          "base_uri": "https://localhost:8080/",
          "height": 560
        },
        "id": "gVDLCY4KOJbe",
        "outputId": "5096ddd3-dcb5-4b6f-ce2a-7ce6609560aa"
      },
      "execution_count": 15,
      "outputs": [
        {
          "output_type": "execute_result",
          "data": {
            "text/plain": [
              "<Axes: xlabel='Date'>"
            ]
          },
          "metadata": {},
          "execution_count": 15
        },
        {
          "output_type": "display_data",
          "data": {
            "text/plain": [
              "<Figure size 1200x600 with 1 Axes>"
            ],
            "image/png": "[encoded data removed]"
          },
          "metadata": {}
        }
      ]
    },
    {
      "cell_type": "code",
      "source": [
        "#In order to make a healthy prediction and avoid high fluctuations in the data, we will work with 1 year of period.\n",
        "\n",
        "train_df = train_df[train_df['Date'] > '2020-01-08']\n",
        "print(train_df.shape[0])"
      ],
      "metadata": {
        "colab": {
          "base_uri": "https://localhost:8080/"
        },
        "id": "vAD6H54vPQfF",
        "outputId": "98aa69ab-a783-411d-9c49-b51543c2a0e4"
      },
      "execution_count": 16,
      "outputs": [
        {
          "output_type": "stream",
          "name": "stdout",
          "text": [
            "366\n"
          ]
        }
      ]
    },
    {
      "cell_type": "code",
      "source": [
        "train_df.head()"
      ],
      "metadata": {
        "colab": {
          "base_uri": "https://localhost:8080/",
          "height": 206
        },
        "id": "dfvhLHNfQLLW",
        "outputId": "e52be4ea-cbe3-4840-a99d-f11c74cf588a"
      },
      "execution_count": 17,
      "outputs": [
        {
          "output_type": "execute_result",
          "data": {
            "text/plain": [
              "            Date        Close\n",
              "1940  2020-01-09  7879.071289\n",
              "1941  2020-01-10  8166.554199\n",
              "1942  2020-01-11  8037.537598\n",
              "1943  2020-01-12  8192.494141\n",
              "1944  2020-01-13  8144.194336"
            ],
            "text/html": [
              "\n",
              "  <div id=\"df-ceaa29f8-9eeb-4208-800f-ac714bfe6c0c\">\n",
              "    <div class=\"colab-df-container\">\n",
              "      <div>\n",
              "<style scoped>\n",
              "    .dataframe tbody tr th:only-of-type {\n",
              "        vertical-align: middle;\n",
              "    }\n",
              "\n",
              "    .dataframe tbody tr th {\n",
              "        vertical-align: top;\n",
              "    }\n",
              "\n",
              "    .dataframe thead th {\n",
              "        text-align: right;\n",
              "    }\n",
              "</style>\n",
              "<table border=\"1\" class=\"dataframe\">\n",
              "  <thead>\n",
              "    <tr style=\"text-align: right;\">\n",
              "      <th></th>\n",
              "      <th>Date</th>\n",
              "      <th>Close</th>\n",
              "    </tr>\n",
              "  </thead>\n",
              "  <tbody>\n",
              "    <tr>\n",
              "      <th>1940</th>\n",
              "      <td>2020-01-09</td>\n",
              "      <td>7879.071289</td>\n",
              "    </tr>\n",
              "    <tr>\n",
              "      <th>1941</th>\n",
              "      <td>2020-01-10</td>\n",
              "      <td>8166.554199</td>\n",
              "    </tr>\n",
              "    <tr>\n",
              "      <th>1942</th>\n",
              "      <td>2020-01-11</td>\n",
              "      <td>8037.537598</td>\n",
              "    </tr>\n",
              "    <tr>\n",
              "      <th>1943</th>\n",
              "      <td>2020-01-12</td>\n",
              "      <td>8192.494141</td>\n",
              "    </tr>\n",
              "    <tr>\n",
              "      <th>1944</th>\n",
              "      <td>2020-01-13</td>\n",
              "      <td>8144.194336</td>\n",
              "    </tr>\n",
              "  </tbody>\n",
              "</table>\n",
              "</div>\n",
              "      <button class=\"colab-df-convert\" onclick=\"convertToInteractive('df-ceaa29f8-9eeb-4208-800f-ac714bfe6c0c')\"\n",
              "              title=\"Convert this dataframe to an interactive table.\"\n",
              "              style=\"display:none;\">\n",
              "        \n",
              "  <svg xmlns=\"http://www.w3.org/2000/svg\" height=\"24px\"viewBox=\"0 0 24 24\"\n",
              "       width=\"24px\">\n",
              "    <path d=\"M0 0h24v24H0V0z\" fill=\"none\"/>\n",
              "    <path d=\"M18.56 5.44l.94 2.06.94-2.06 2.06-.94-2.06-.94-.94-2.06-.94 2.06-2.06.94zm-11 1L8.5 8.5l.94-2.06 2.06-.94-2.06-.94L8.5 2.5l-.94 2.06-2.06.94zm10 10l.94 2.06.94-2.06 2.06-.94-2.06-.94-.94-2.06-.94 2.06-2.06.94z\"/><path d=\"M17.41 7.96l-1.37-1.37c-.4-.4-.92-.59-1.43-.59-.52 0-1.04.2-1.43.59L10.3 9.45l-7.72 7.72c-.78.78-.78 2.05 0 2.83L4 21.41c.39.39.9.59 1.41.59.51 0 1.02-.2 1.41-.59l7.78-7.78 2.81-2.81c.8-.78.8-2.07 0-2.86zM5.41 20L4 18.59l7.72-7.72 1.47 1.35L5.41 20z\"/>\n",
              "  </svg>\n",
              "      </button>\n",
              "      \n",
              "  <style>\n",
              "    .colab-df-container {\n",
              "      display:flex;\n",
              "      flex-wrap:wrap;\n",
              "      gap: 12px;\n",
              "    }\n",
              "\n",
              "    .colab-df-convert {\n",
              "      background-color: #E8F0FE;\n",
              "      border: none;\n",
              "      border-radius: 50%;\n",
              "      cursor: pointer;\n",
              "      display: none;\n",
              "      fill: #1967D2;\n",
              "      height: 32px;\n",
              "      padding: 0 0 0 0;\n",
              "      width: 32px;\n",
              "    }\n",
              "\n",
              "    .colab-df-convert:hover {\n",
              "      background-color: #E2EBFA;\n",
              "      box-shadow: 0px 1px 2px rgba(60, 64, 67, 0.3), 0px 1px 3px 1px rgba(60, 64, 67, 0.15);\n",
              "      fill: #174EA6;\n",
              "    }\n",
              "\n",
              "    [theme=dark] .colab-df-convert {\n",
              "      background-color: #3B4455;\n",
              "      fill: #D2E3FC;\n",
              "    }\n",
              "\n",
              "    [theme=dark] .colab-df-convert:hover {\n",
              "      background-color: #434B5C;\n",
              "      box-shadow: 0px 1px 3px 1px rgba(0, 0, 0, 0.15);\n",
              "      filter: drop-shadow(0px 1px 2px rgba(0, 0, 0, 0.3));\n",
              "      fill: #FFFFFF;\n",
              "    }\n",
              "  </style>\n",
              "\n",
              "      <script>\n",
              "        const buttonEl =\n",
              "          document.querySelector('#df-ceaa29f8-9eeb-4208-800f-ac714bfe6c0c button.colab-df-convert');\n",
              "        buttonEl.style.display =\n",
              "          google.colab.kernel.accessAllowed ? 'block' : 'none';\n",
              "\n",
              "        async function convertToInteractive(key) {\n",
              "          const element = document.querySelector('#df-ceaa29f8-9eeb-4208-800f-ac714bfe6c0c');\n",
              "          const dataTable =\n",
              "            await google.colab.kernel.invokeFunction('convertToInteractive',\n",
              "                                                     [key], {});\n",
              "          if (!dataTable) return;\n",
              "\n",
              "          const docLinkHtml = 'Like what you see? Visit the ' +\n",
              "            '<a target=\"_blank\" href=https://colab.research.google.com/notebooks/data_table.ipynb>data table notebook</a>'\n",
              "            + ' to learn more about interactive tables.';\n",
              "          element.innerHTML = '';\n",
              "          dataTable['output_type'] = 'display_data';\n",
              "          await google.colab.output.renderOutput(dataTable, element);\n",
              "          const docLink = document.createElement('div');\n",
              "          docLink.innerHTML = docLinkHtml;\n",
              "          element.appendChild(docLink);\n",
              "        }\n",
              "      </script>\n",
              "    </div>\n",
              "  </div>\n",
              "  "
            ]
          },
          "metadata": {},
          "execution_count": 17
        }
      ]
    },
    {
      "cell_type": "code",
      "source": [
        "from sklearn.preprocessing import MinMaxScaler\n",
        "\n",
        "train_df.drop('Date', axis=1, inplace=True)\n",
        "scaler= MinMaxScaler(feature_range=(0,1))\n",
        "train_df = scaler.fit_transform(np.array(train_df).reshape(-1,1))\n",
        "print(train_df.shape)"
      ],
      "metadata": {
        "colab": {
          "base_uri": "https://localhost:8080/"
        },
        "id": "TWRkM2joRS_8",
        "outputId": "88fcda8d-1a47-468a-f988-409b489da5bf"
      },
      "execution_count": 19,
      "outputs": [
        {
          "output_type": "stream",
          "name": "stdout",
          "text": [
            "(366, 1)\n"
          ]
        },
        {
          "output_type": "stream",
          "name": "stderr",
          "text": [
            "<ipython-input-19-8569afa9da74>:4: SettingWithCopyWarning: \n",
            "A value is trying to be set on a copy of a slice from a DataFrame\n",
            "\n",
            "See the caveats in the documentation: https://pandas.pydata.org/pandas-docs/stable/user_guide/indexing.html#returning-a-view-versus-a-copy\n",
            "  train_df.drop('Date', axis=1, inplace=True)\n"
          ]
        }
      ]
    },
    {
      "cell_type": "markdown",
      "source": [
        "# **TRAINING**"
      ],
      "metadata": {
        "id": "5iR3BlxaPyw4"
      }
    },
    {
      "cell_type": "code",
      "source": [
        "size_training = int(len(train_df)*0.60)\n",
        "size_test = len(train_df)-size_training\n",
        "train_data, test_data = train_df[0: size_training,:], train_df[size_training: len(train_df), :1]\n",
        "print(len(train_data))\n",
        "print(len(test_data))"
      ],
      "metadata": {
        "colab": {
          "base_uri": "https://localhost:8080/"
        },
        "id": "tGhxvKLBUvED",
        "outputId": "8d4775ea-c6ff-4702-92d5-1b64e3b02261"
      },
      "execution_count": 20,
      "outputs": [
        {
          "output_type": "stream",
          "name": "stdout",
          "text": [
            "219\n",
            "147\n"
          ]
        }
      ]
    },
    {
      "cell_type": "code",
      "source": [
        "def create_dataset(dataset, time_step=1):\n",
        "  dataX, dataY = [], []\n",
        "  for i in range(len(dataset)-time_step-1):\n",
        "    a= dataset[i:(i+time_step),0]\n",
        "    dataX.append(a)\n",
        "    dataY.append(dataset[i + time_step,0])\n",
        "  return np.array(dataX), np.array(dataY)"
      ],
      "metadata": {
        "id": "GCmstGLFj8d6"
      },
      "execution_count": 22,
      "outputs": []
    },
    {
      "cell_type": "code",
      "source": [
        "time_step = 15\n",
        "X_train, y_train = create_dataset(train_data, time_step)\n",
        "X_test, y_test = create_dataset(test_data, time_step)\n",
        "\n",
        "print(X_train.shape)\n",
        "print(y_train.shape)\n",
        "print(X_test.shape)\n",
        "print(y_test.shape)"
      ],
      "metadata": {
        "colab": {
          "base_uri": "https://localhost:8080/"
        },
        "id": "UzU3swUnkkyv",
        "outputId": "318ee8cd-ce42-4ea4-aa0e-63213ed0bb08"
      },
      "execution_count": 25,
      "outputs": [
        {
          "output_type": "stream",
          "name": "stdout",
          "text": [
            "(203, 15)\n",
            "(203,)\n",
            "(131, 15)\n",
            "(131,)\n"
          ]
        }
      ]
    },
    {
      "cell_type": "code",
      "source": [
        "X_train = X_train.reshape(X_train.shape[0], X_train.shape[1], 1)\n",
        "X_test = X_test.reshape(X_test.shape[0], X_test.shape[1], 1)\n",
        "\n",
        "print(X_train.shape)\n",
        "print(X_test.shape)"
      ],
      "metadata": {
        "colab": {
          "base_uri": "https://localhost:8080/"
        },
        "id": "J1Q4Nc4zlUdO",
        "outputId": "5c891139-648c-4e9d-ee75-fee49322732b"
      },
      "execution_count": 28,
      "outputs": [
        {
          "output_type": "stream",
          "name": "stdout",
          "text": [
            "(203, 15, 1)\n",
            "(131, 15, 1)\n"
          ]
        }
      ]
    },
    {
      "cell_type": "code",
      "source": [
        "from keras.models import Sequential\n",
        "from keras.layers import Dense\n",
        "from keras.layers import LSTM\n",
        "\n",
        "model = Sequential()\n",
        "\n",
        "model.add(LSTM(10,input_shape=(None,1), activation=\"relu\"))\n",
        "model.add(Dense(1))\n",
        "model.compile(loss=\"mean_squared_error\", optimizer=\"adam\")\n",
        "\n",
        "history = model.fit(X_train, y_train, validation_data=(X_test, y_test), epochs=150, batch_size=32,verbose=1)"
      ],
      "metadata": {
        "colab": {
          "base_uri": "https://localhost:8080/"
        },
        "id": "54jjUESUmSnu",
        "outputId": "429cfbd1-23f8-4cc9-8260-87db3e8a7dca"
      },
      "execution_count": 67,
      "outputs": [
        {
          "output_type": "stream",
          "name": "stderr",
          "text": [
            "WARNING:tensorflow:Layer lstm_9 will not use cuDNN kernels since it doesn't meet the criteria. It will use a generic GPU kernel as fallback when running on GPU.\n"
          ]
        },
        {
          "output_type": "stream",
          "name": "stdout",
          "text": [
            "Epoch 1/150\n",
            "7/7 [==============================] - 2s 67ms/step - loss: 0.0113 - val_loss: 0.1114\n",
            "Epoch 2/150\n",
            "7/7 [==============================] - 0s 35ms/step - loss: 0.0088 - val_loss: 0.1021\n",
            "Epoch 3/150\n",
            "7/7 [==============================] - 0s 38ms/step - loss: 0.0064 - val_loss: 0.0925\n",
            "Epoch 4/150\n",
            "7/7 [==============================] - 0s 34ms/step - loss: 0.0041 - val_loss: 0.0826\n",
            "Epoch 5/150\n",
            "7/7 [==============================] - 0s 35ms/step - loss: 0.0024 - val_loss: 0.0725\n",
            "Epoch 6/150\n",
            "7/7 [==============================] - 0s 40ms/step - loss: 0.0014 - val_loss: 0.0642\n",
            "Epoch 7/150\n",
            "7/7 [==============================] - 0s 32ms/step - loss: 0.0012 - val_loss: 0.0588\n",
            "Epoch 8/150\n",
            "7/7 [==============================] - 0s 37ms/step - loss: 0.0011 - val_loss: 0.0564\n",
            "Epoch 9/150\n",
            "7/7 [==============================] - 0s 36ms/step - loss: 0.0011 - val_loss: 0.0545\n",
            "Epoch 10/150\n",
            "7/7 [==============================] - 0s 34ms/step - loss: 9.8271e-04 - val_loss: 0.0527\n",
            "Epoch 11/150\n",
            "7/7 [==============================] - 0s 36ms/step - loss: 9.1837e-04 - val_loss: 0.0510\n",
            "Epoch 12/150\n",
            "7/7 [==============================] - 0s 35ms/step - loss: 8.5341e-04 - val_loss: 0.0500\n",
            "Epoch 13/150\n",
            "7/7 [==============================] - 0s 34ms/step - loss: 8.0360e-04 - val_loss: 0.0491\n",
            "Epoch 14/150\n",
            "7/7 [==============================] - 0s 32ms/step - loss: 7.3958e-04 - val_loss: 0.0471\n",
            "Epoch 15/150\n",
            "7/7 [==============================] - 0s 37ms/step - loss: 6.8899e-04 - val_loss: 0.0459\n",
            "Epoch 16/150\n",
            "7/7 [==============================] - 0s 33ms/step - loss: 6.3115e-04 - val_loss: 0.0446\n",
            "Epoch 17/150\n",
            "7/7 [==============================] - 0s 34ms/step - loss: 5.8710e-04 - val_loss: 0.0427\n",
            "Epoch 18/150\n",
            "7/7 [==============================] - 0s 37ms/step - loss: 5.4315e-04 - val_loss: 0.0409\n",
            "Epoch 19/150\n",
            "7/7 [==============================] - 0s 38ms/step - loss: 5.0708e-04 - val_loss: 0.0391\n",
            "Epoch 20/150\n",
            "7/7 [==============================] - 0s 36ms/step - loss: 4.7218e-04 - val_loss: 0.0374\n",
            "Epoch 21/150\n",
            "7/7 [==============================] - 0s 35ms/step - loss: 4.6490e-04 - val_loss: 0.0360\n",
            "Epoch 22/150\n",
            "7/7 [==============================] - 0s 36ms/step - loss: 4.4062e-04 - val_loss: 0.0342\n",
            "Epoch 23/150\n",
            "7/7 [==============================] - 0s 31ms/step - loss: 4.0748e-04 - val_loss: 0.0336\n",
            "Epoch 24/150\n",
            "7/7 [==============================] - 0s 51ms/step - loss: 4.0373e-04 - val_loss: 0.0319\n",
            "Epoch 25/150\n",
            "7/7 [==============================] - 1s 95ms/step - loss: 3.8932e-04 - val_loss: 0.0310\n",
            "Epoch 26/150\n",
            "7/7 [==============================] - 1s 161ms/step - loss: 3.8114e-04 - val_loss: 0.0302\n",
            "Epoch 27/150\n",
            "7/7 [==============================] - 1s 72ms/step - loss: 3.7937e-04 - val_loss: 0.0294\n",
            "Epoch 28/150\n",
            "7/7 [==============================] - 0s 35ms/step - loss: 3.7518e-04 - val_loss: 0.0287\n",
            "Epoch 29/150\n",
            "7/7 [==============================] - 0s 33ms/step - loss: 3.7464e-04 - val_loss: 0.0280\n",
            "Epoch 30/150\n",
            "7/7 [==============================] - 0s 33ms/step - loss: 3.7177e-04 - val_loss: 0.0277\n",
            "Epoch 31/150\n",
            "7/7 [==============================] - 0s 35ms/step - loss: 3.6071e-04 - val_loss: 0.0267\n",
            "Epoch 32/150\n",
            "7/7 [==============================] - 0s 42ms/step - loss: 3.6273e-04 - val_loss: 0.0270\n",
            "Epoch 33/150\n",
            "7/7 [==============================] - 0s 38ms/step - loss: 3.6356e-04 - val_loss: 0.0261\n",
            "Epoch 34/150\n",
            "7/7 [==============================] - 0s 39ms/step - loss: 3.5413e-04 - val_loss: 0.0261\n",
            "Epoch 35/150\n",
            "7/7 [==============================] - 0s 35ms/step - loss: 3.5153e-04 - val_loss: 0.0256\n",
            "Epoch 36/150\n",
            "7/7 [==============================] - 0s 37ms/step - loss: 3.5687e-04 - val_loss: 0.0253\n",
            "Epoch 37/150\n",
            "7/7 [==============================] - 0s 39ms/step - loss: 3.6243e-04 - val_loss: 0.0251\n",
            "Epoch 38/150\n",
            "7/7 [==============================] - 0s 31ms/step - loss: 3.4442e-04 - val_loss: 0.0243\n",
            "Epoch 39/150\n",
            "7/7 [==============================] - 0s 31ms/step - loss: 3.4653e-04 - val_loss: 0.0246\n",
            "Epoch 40/150\n",
            "7/7 [==============================] - 0s 31ms/step - loss: 3.4229e-04 - val_loss: 0.0242\n",
            "Epoch 41/150\n",
            "7/7 [==============================] - 0s 37ms/step - loss: 3.5303e-04 - val_loss: 0.0237\n",
            "Epoch 42/150\n",
            "7/7 [==============================] - 0s 35ms/step - loss: 3.5598e-04 - val_loss: 0.0238\n",
            "Epoch 43/150\n",
            "7/7 [==============================] - 0s 34ms/step - loss: 3.3819e-04 - val_loss: 0.0229\n",
            "Epoch 44/150\n",
            "7/7 [==============================] - 0s 32ms/step - loss: 3.3716e-04 - val_loss: 0.0232\n",
            "Epoch 45/150\n",
            "7/7 [==============================] - 0s 32ms/step - loss: 3.2862e-04 - val_loss: 0.0226\n",
            "Epoch 46/150\n",
            "7/7 [==============================] - 0s 33ms/step - loss: 3.3117e-04 - val_loss: 0.0224\n",
            "Epoch 47/150\n",
            "7/7 [==============================] - 0s 32ms/step - loss: 3.2503e-04 - val_loss: 0.0221\n",
            "Epoch 48/150\n",
            "7/7 [==============================] - 0s 33ms/step - loss: 3.2444e-04 - val_loss: 0.0219\n",
            "Epoch 49/150\n",
            "7/7 [==============================] - 0s 34ms/step - loss: 3.2634e-04 - val_loss: 0.0213\n",
            "Epoch 50/150\n",
            "7/7 [==============================] - 0s 31ms/step - loss: 3.2517e-04 - val_loss: 0.0215\n",
            "Epoch 51/150\n",
            "7/7 [==============================] - 0s 31ms/step - loss: 3.1482e-04 - val_loss: 0.0206\n",
            "Epoch 52/150\n",
            "7/7 [==============================] - 0s 30ms/step - loss: 3.1722e-04 - val_loss: 0.0208\n",
            "Epoch 53/150\n",
            "7/7 [==============================] - 0s 31ms/step - loss: 3.1702e-04 - val_loss: 0.0202\n",
            "Epoch 54/150\n",
            "7/7 [==============================] - 0s 31ms/step - loss: 3.1447e-04 - val_loss: 0.0202\n",
            "Epoch 55/150\n",
            "7/7 [==============================] - 0s 31ms/step - loss: 3.2230e-04 - val_loss: 0.0197\n",
            "Epoch 56/150\n",
            "7/7 [==============================] - 0s 35ms/step - loss: 3.0853e-04 - val_loss: 0.0196\n",
            "Epoch 57/150\n",
            "7/7 [==============================] - 0s 32ms/step - loss: 3.0876e-04 - val_loss: 0.0191\n",
            "Epoch 58/150\n",
            "7/7 [==============================] - 0s 32ms/step - loss: 3.0155e-04 - val_loss: 0.0189\n",
            "Epoch 59/150\n",
            "7/7 [==============================] - 0s 30ms/step - loss: 3.0300e-04 - val_loss: 0.0185\n",
            "Epoch 60/150\n",
            "7/7 [==============================] - 0s 32ms/step - loss: 3.0023e-04 - val_loss: 0.0181\n",
            "Epoch 61/150\n",
            "7/7 [==============================] - 0s 32ms/step - loss: 2.9999e-04 - val_loss: 0.0181\n",
            "Epoch 62/150\n",
            "7/7 [==============================] - 0s 40ms/step - loss: 2.9997e-04 - val_loss: 0.0175\n",
            "Epoch 63/150\n",
            "7/7 [==============================] - 0s 35ms/step - loss: 2.9496e-04 - val_loss: 0.0176\n",
            "Epoch 64/150\n",
            "7/7 [==============================] - 0s 36ms/step - loss: 2.9409e-04 - val_loss: 0.0171\n",
            "Epoch 65/150\n",
            "7/7 [==============================] - 0s 35ms/step - loss: 2.9050e-04 - val_loss: 0.0169\n",
            "Epoch 66/150\n",
            "7/7 [==============================] - 0s 38ms/step - loss: 2.8835e-04 - val_loss: 0.0167\n",
            "Epoch 67/150\n",
            "7/7 [==============================] - 0s 31ms/step - loss: 2.8754e-04 - val_loss: 0.0163\n",
            "Epoch 68/150\n",
            "7/7 [==============================] - 0s 31ms/step - loss: 2.8650e-04 - val_loss: 0.0157\n",
            "Epoch 69/150\n",
            "7/7 [==============================] - 0s 38ms/step - loss: 2.8185e-04 - val_loss: 0.0158\n",
            "Epoch 70/150\n",
            "7/7 [==============================] - 0s 69ms/step - loss: 2.8273e-04 - val_loss: 0.0153\n",
            "Epoch 71/150\n",
            "7/7 [==============================] - 0s 57ms/step - loss: 2.8067e-04 - val_loss: 0.0147\n",
            "Epoch 72/150\n",
            "7/7 [==============================] - 0s 60ms/step - loss: 2.7761e-04 - val_loss: 0.0147\n",
            "Epoch 73/150\n",
            "7/7 [==============================] - 0s 61ms/step - loss: 2.7566e-04 - val_loss: 0.0141\n",
            "Epoch 74/150\n",
            "7/7 [==============================] - 0s 60ms/step - loss: 2.8523e-04 - val_loss: 0.0140\n",
            "Epoch 75/150\n",
            "7/7 [==============================] - 0s 49ms/step - loss: 2.7201e-04 - val_loss: 0.0140\n",
            "Epoch 76/150\n",
            "7/7 [==============================] - 0s 37ms/step - loss: 2.7154e-04 - val_loss: 0.0135\n",
            "Epoch 77/150\n",
            "7/7 [==============================] - 0s 34ms/step - loss: 2.7672e-04 - val_loss: 0.0133\n",
            "Epoch 78/150\n",
            "7/7 [==============================] - 0s 32ms/step - loss: 2.7175e-04 - val_loss: 0.0131\n",
            "Epoch 79/150\n",
            "7/7 [==============================] - 0s 32ms/step - loss: 2.7436e-04 - val_loss: 0.0125\n",
            "Epoch 80/150\n",
            "7/7 [==============================] - 0s 32ms/step - loss: 2.7035e-04 - val_loss: 0.0126\n",
            "Epoch 81/150\n",
            "7/7 [==============================] - 0s 32ms/step - loss: 2.6081e-04 - val_loss: 0.0118\n",
            "Epoch 82/150\n",
            "7/7 [==============================] - 0s 32ms/step - loss: 2.6460e-04 - val_loss: 0.0121\n",
            "Epoch 83/150\n",
            "7/7 [==============================] - 0s 39ms/step - loss: 2.5913e-04 - val_loss: 0.0115\n",
            "Epoch 84/150\n",
            "7/7 [==============================] - 0s 29ms/step - loss: 2.7028e-04 - val_loss: 0.0116\n",
            "Epoch 85/150\n",
            "7/7 [==============================] - 0s 31ms/step - loss: 2.6437e-04 - val_loss: 0.0111\n",
            "Epoch 86/150\n",
            "7/7 [==============================] - 0s 34ms/step - loss: 2.5562e-04 - val_loss: 0.0106\n",
            "Epoch 87/150\n",
            "7/7 [==============================] - 0s 31ms/step - loss: 2.5736e-04 - val_loss: 0.0103\n",
            "Epoch 88/150\n",
            "7/7 [==============================] - 0s 35ms/step - loss: 2.5549e-04 - val_loss: 0.0100\n",
            "Epoch 89/150\n",
            "7/7 [==============================] - 0s 36ms/step - loss: 2.5432e-04 - val_loss: 0.0096\n",
            "Epoch 90/150\n",
            "7/7 [==============================] - 0s 30ms/step - loss: 2.5138e-04 - val_loss: 0.0095\n",
            "Epoch 91/150\n",
            "7/7 [==============================] - 0s 34ms/step - loss: 2.5598e-04 - val_loss: 0.0092\n",
            "Epoch 92/150\n",
            "7/7 [==============================] - 0s 39ms/step - loss: 2.4821e-04 - val_loss: 0.0093\n",
            "Epoch 93/150\n",
            "7/7 [==============================] - 0s 34ms/step - loss: 2.4237e-04 - val_loss: 0.0085\n",
            "Epoch 94/150\n",
            "7/7 [==============================] - 0s 30ms/step - loss: 2.4564e-04 - val_loss: 0.0085\n",
            "Epoch 95/150\n",
            "7/7 [==============================] - 0s 40ms/step - loss: 2.4328e-04 - val_loss: 0.0082\n",
            "Epoch 96/150\n",
            "7/7 [==============================] - 0s 34ms/step - loss: 2.3984e-04 - val_loss: 0.0077\n",
            "Epoch 97/150\n",
            "7/7 [==============================] - 0s 32ms/step - loss: 2.4003e-04 - val_loss: 0.0076\n",
            "Epoch 98/150\n",
            "7/7 [==============================] - 0s 36ms/step - loss: 2.4621e-04 - val_loss: 0.0072\n",
            "Epoch 99/150\n",
            "7/7 [==============================] - 0s 35ms/step - loss: 2.3375e-04 - val_loss: 0.0070\n",
            "Epoch 100/150\n",
            "7/7 [==============================] - 0s 45ms/step - loss: 2.3391e-04 - val_loss: 0.0067\n",
            "Epoch 101/150\n",
            "7/7 [==============================] - 0s 36ms/step - loss: 2.3060e-04 - val_loss: 0.0066\n",
            "Epoch 102/150\n",
            "7/7 [==============================] - 0s 33ms/step - loss: 2.3512e-04 - val_loss: 0.0061\n",
            "Epoch 103/150\n",
            "7/7 [==============================] - 0s 31ms/step - loss: 2.2895e-04 - val_loss: 0.0061\n",
            "Epoch 104/150\n",
            "7/7 [==============================] - 0s 36ms/step - loss: 2.4072e-04 - val_loss: 0.0054\n",
            "Epoch 105/150\n",
            "7/7 [==============================] - 0s 35ms/step - loss: 2.3453e-04 - val_loss: 0.0055\n",
            "Epoch 106/150\n",
            "7/7 [==============================] - 0s 35ms/step - loss: 2.2606e-04 - val_loss: 0.0050\n",
            "Epoch 107/150\n",
            "7/7 [==============================] - 0s 33ms/step - loss: 2.2509e-04 - val_loss: 0.0048\n",
            "Epoch 108/150\n",
            "7/7 [==============================] - 0s 33ms/step - loss: 2.2188e-04 - val_loss: 0.0047\n",
            "Epoch 109/150\n",
            "7/7 [==============================] - 0s 40ms/step - loss: 2.2410e-04 - val_loss: 0.0044\n",
            "Epoch 110/150\n",
            "7/7 [==============================] - 0s 40ms/step - loss: 2.1946e-04 - val_loss: 0.0043\n",
            "Epoch 111/150\n",
            "7/7 [==============================] - 0s 38ms/step - loss: 2.1823e-04 - val_loss: 0.0040\n",
            "Epoch 112/150\n",
            "7/7 [==============================] - 0s 42ms/step - loss: 2.1887e-04 - val_loss: 0.0037\n",
            "Epoch 113/150\n",
            "7/7 [==============================] - 0s 33ms/step - loss: 2.1540e-04 - val_loss: 0.0037\n",
            "Epoch 114/150\n",
            "7/7 [==============================] - 0s 35ms/step - loss: 2.2069e-04 - val_loss: 0.0034\n",
            "Epoch 115/150\n",
            "7/7 [==============================] - 0s 34ms/step - loss: 2.1689e-04 - val_loss: 0.0032\n",
            "Epoch 116/150\n",
            "7/7 [==============================] - 0s 47ms/step - loss: 2.3172e-04 - val_loss: 0.0030\n",
            "Epoch 117/150\n",
            "7/7 [==============================] - 0s 59ms/step - loss: 2.2107e-04 - val_loss: 0.0029\n",
            "Epoch 118/150\n",
            "7/7 [==============================] - 0s 57ms/step - loss: 2.1714e-04 - val_loss: 0.0026\n",
            "Epoch 119/150\n",
            "7/7 [==============================] - 0s 60ms/step - loss: 2.1308e-04 - val_loss: 0.0027\n",
            "Epoch 120/150\n",
            "7/7 [==============================] - 0s 69ms/step - loss: 2.1656e-04 - val_loss: 0.0020\n",
            "Epoch 121/150\n",
            "7/7 [==============================] - 0s 70ms/step - loss: 2.1265e-04 - val_loss: 0.0022\n",
            "Epoch 122/150\n",
            "7/7 [==============================] - 0s 33ms/step - loss: 2.0998e-04 - val_loss: 0.0017\n",
            "Epoch 123/150\n",
            "7/7 [==============================] - 0s 35ms/step - loss: 2.1163e-04 - val_loss: 0.0016\n",
            "Epoch 124/150\n",
            "7/7 [==============================] - 0s 35ms/step - loss: 2.0641e-04 - val_loss: 0.0015\n",
            "Epoch 125/150\n",
            "7/7 [==============================] - 0s 38ms/step - loss: 2.0124e-04 - val_loss: 0.0014\n",
            "Epoch 126/150\n",
            "7/7 [==============================] - 0s 36ms/step - loss: 1.9930e-04 - val_loss: 0.0012\n",
            "Epoch 127/150\n",
            "7/7 [==============================] - 0s 32ms/step - loss: 1.9942e-04 - val_loss: 0.0011\n",
            "Epoch 128/150\n",
            "7/7 [==============================] - 0s 37ms/step - loss: 1.9985e-04 - val_loss: 9.7487e-04\n",
            "Epoch 129/150\n",
            "7/7 [==============================] - 0s 35ms/step - loss: 2.0000e-04 - val_loss: 8.8109e-04\n",
            "Epoch 130/150\n",
            "7/7 [==============================] - 0s 31ms/step - loss: 1.9803e-04 - val_loss: 8.1677e-04\n",
            "Epoch 131/150\n",
            "7/7 [==============================] - 0s 36ms/step - loss: 1.9856e-04 - val_loss: 7.2453e-04\n",
            "Epoch 132/150\n",
            "7/7 [==============================] - 0s 33ms/step - loss: 2.0192e-04 - val_loss: 6.5435e-04\n",
            "Epoch 133/150\n",
            "7/7 [==============================] - 0s 43ms/step - loss: 1.9340e-04 - val_loss: 5.3449e-04\n",
            "Epoch 134/150\n",
            "7/7 [==============================] - 0s 36ms/step - loss: 1.9532e-04 - val_loss: 5.4359e-04\n",
            "Epoch 135/150\n",
            "7/7 [==============================] - 0s 32ms/step - loss: 1.9842e-04 - val_loss: 4.3457e-04\n",
            "Epoch 136/150\n",
            "7/7 [==============================] - 0s 33ms/step - loss: 1.9796e-04 - val_loss: 4.9976e-04\n",
            "Epoch 137/150\n",
            "7/7 [==============================] - 0s 32ms/step - loss: 1.9525e-04 - val_loss: 4.1210e-04\n",
            "Epoch 138/150\n",
            "7/7 [==============================] - 0s 31ms/step - loss: 1.9918e-04 - val_loss: 4.6691e-04\n",
            "Epoch 139/150\n",
            "7/7 [==============================] - 0s 33ms/step - loss: 2.0485e-04 - val_loss: 4.2047e-04\n",
            "Epoch 140/150\n",
            "7/7 [==============================] - 0s 33ms/step - loss: 2.0064e-04 - val_loss: 4.6698e-04\n",
            "Epoch 141/150\n",
            "7/7 [==============================] - 0s 34ms/step - loss: 1.9129e-04 - val_loss: 4.4031e-04\n",
            "Epoch 142/150\n",
            "7/7 [==============================] - 0s 32ms/step - loss: 1.9564e-04 - val_loss: 4.6422e-04\n",
            "Epoch 143/150\n",
            "7/7 [==============================] - 0s 41ms/step - loss: 1.8713e-04 - val_loss: 4.2417e-04\n",
            "Epoch 144/150\n",
            "7/7 [==============================] - 0s 36ms/step - loss: 1.8966e-04 - val_loss: 4.4388e-04\n",
            "Epoch 145/150\n",
            "7/7 [==============================] - 0s 31ms/step - loss: 1.8808e-04 - val_loss: 4.3350e-04\n",
            "Epoch 146/150\n",
            "7/7 [==============================] - 0s 40ms/step - loss: 1.8714e-04 - val_loss: 4.6617e-04\n",
            "Epoch 147/150\n",
            "7/7 [==============================] - 0s 35ms/step - loss: 1.8575e-04 - val_loss: 4.8025e-04\n",
            "Epoch 148/150\n",
            "7/7 [==============================] - 0s 36ms/step - loss: 1.8813e-04 - val_loss: 4.5503e-04\n",
            "Epoch 149/150\n",
            "7/7 [==============================] - 0s 30ms/step - loss: 1.8886e-04 - val_loss: 5.0497e-04\n",
            "Epoch 150/150\n",
            "7/7 [==============================] - 0s 35ms/step - loss: 1.8078e-04 - val_loss: 4.7308e-04\n"
          ]
        }
      ]
    },
    {
      "cell_type": "code",
      "source": [
        "#Comparing loss and validation loss values\n",
        "\n",
        "loss = history.history['loss']\n",
        "val_loss = history.history['val_loss']\n",
        "\n",
        "epochs = range(len(loss))\n",
        "\n",
        "plt.plot(epochs,loss, 'r', label= \"Training Loss\")\n",
        "plt.plot(epochs, val_loss, 'y', label= \"Validation Loss\")\n",
        "plt.title('Loss Values')\n",
        "\n",
        "plt.show()"
      ],
      "metadata": {
        "colab": {
          "base_uri": "https://localhost:8080/",
          "height": 452
        },
        "id": "Jo0OmXFTpGnV",
        "outputId": "11b1298f-9b70-4043-ae75-34c6df0d3373"
      },
      "execution_count": 68,
      "outputs": [
        {
          "output_type": "display_data",
          "data": {
            "text/plain": [
              "<Figure size 640x480 with 1 Axes>"
            ],
            "image/png": "[encoded data removed]"
          },
          "metadata": {}
        }
      ]
    },
    {
      "cell_type": "code",
      "source": [
        "train_predict = model.predict(X_train)\n",
        "test_predict = model.predict(X_test)\n",
        "train_predict.shape, test_predict.shape"
      ],
      "metadata": {
        "colab": {
          "base_uri": "https://localhost:8080/"
        },
        "id": "4bg_BZIMrTfV",
        "outputId": "d425dfcd-94c3-46c3-b69c-9084b47ca9e7"
      },
      "execution_count": 69,
      "outputs": [
        {
          "output_type": "stream",
          "name": "stdout",
          "text": [
            "7/7 [==============================] - 0s 4ms/step\n",
            "5/5 [==============================] - 0s 4ms/step\n"
          ]
        },
        {
          "output_type": "execute_result",
          "data": {
            "text/plain": [
              "((203, 1), (131, 1))"
            ]
          },
          "metadata": {},
          "execution_count": 69
        }
      ]
    },
    {
      "cell_type": "code",
      "source": [
        "train_predict = scaler.inverse_transform(train_predict)\n",
        "test_predict = scaler.inverse_transform(test_predict)\n",
        "original_ytrain = scaler.inverse_transform(y_train.reshape(-1,1))\n",
        "original_ytest= scaler.inverse_transform(y_test.reshape(-1,1))"
      ],
      "metadata": {
        "id": "jAjYO6OErsVL"
      },
      "execution_count": 70,
      "outputs": []
    },
    {
      "cell_type": "code",
      "source": [
        "from sklearn.metrics import mean_squared_error, mean_absolute_error\n",
        "\n",
        "#TRAINING\n",
        "\n",
        "print(\"Train Data RMSE: \",math.sqrt(mean_squared_error(original_ytrain, train_predict)))\n",
        "print(\"Train Data MSE: \", mean_squared_error(original_ytrain, train_predict))\n",
        "print(\"Train Data MAE: \", mean_absolute_error(original_ytrain, train_predict))\n",
        "\n",
        "#TEST\n",
        "\n",
        "print(\"Test Data RMSE: \",math.sqrt(mean_squared_error(original_ytest, test_predict)))\n",
        "print(\"Test Data MSE: \" ,mean_squared_error(original_ytest, test_predict))\n",
        "print(\"Test Data MAE: \" ,mean_absolute_error(original_ytest, test_predict))\n",
        "\n"
      ],
      "metadata": {
        "colab": {
          "base_uri": "https://localhost:8080/"
        },
        "id": "KuGC72OpsEjD",
        "outputId": "f3cb3af0-71a4-4ea7-9cb8-a861a12446e2"
      },
      "execution_count": 72,
      "outputs": [
        {
          "output_type": "stream",
          "name": "stdout",
          "text": [
            "Train Data RMSE:  469.23591066890094\n",
            "Train Data MSE:  220182.33986127278\n",
            "Train Data MAE:  307.4187889742919\n",
            "Test Data RMSE:  765.10258004792\n",
            "Test Data MSE:  585381.9579959839\n",
            "Test Data MAE:  538.2665493196566\n"
          ]
        }
      ]
    },
    {
      "cell_type": "code",
      "source": [
        "from keras.models import Sequential\n",
        "from keras.layers import Dense, GRU\n",
        "\n",
        "model = Sequential()\n",
        "model.add(GRU(10, input_shape=(None, 1), activation=\"relu\"))\n",
        "model.add(Dense(1))\n",
        "model.compile(loss=\"mean_squared_error\", optimizer=\"adam\")\n",
        "\n",
        "history = model.fit(X_train, y_train, validation_data=(X_test, y_test), epochs=150, batch_size=32, verbose=1)\n"
      ],
      "metadata": {
        "colab": {
          "base_uri": "https://localhost:8080/"
        },
        "id": "Ls97rz6_uZlk",
        "outputId": "ae8b9a60-62c6-4d80-aadc-268913f50677"
      },
      "execution_count": 60,
      "outputs": [
        {
          "output_type": "stream",
          "name": "stderr",
          "text": [
            "WARNING:tensorflow:Layer gru will not use cuDNN kernels since it doesn't meet the criteria. It will use a generic GPU kernel as fallback when running on GPU.\n"
          ]
        },
        {
          "output_type": "stream",
          "name": "stdout",
          "text": [
            "Epoch 1/150\n",
            "7/7 [==============================] - 4s 79ms/step - loss: 0.0119 - val_loss: 0.1121\n",
            "Epoch 2/150\n",
            "7/7 [==============================] - 0s 48ms/step - loss: 0.0062 - val_loss: 0.0891\n",
            "Epoch 3/150\n",
            "7/7 [==============================] - 0s 39ms/step - loss: 0.0033 - val_loss: 0.0726\n",
            "Epoch 4/150\n",
            "7/7 [==============================] - 0s 45ms/step - loss: 0.0017 - val_loss: 0.0611\n",
            "Epoch 5/150\n",
            "7/7 [==============================] - 0s 47ms/step - loss: 0.0012 - val_loss: 0.0538\n",
            "Epoch 6/150\n",
            "7/7 [==============================] - 1s 82ms/step - loss: 0.0012 - val_loss: 0.0502\n",
            "Epoch 7/150\n",
            "7/7 [==============================] - 1s 76ms/step - loss: 0.0012 - val_loss: 0.0490\n",
            "Epoch 8/150\n",
            "7/7 [==============================] - 1s 75ms/step - loss: 0.0012 - val_loss: 0.0496\n",
            "Epoch 9/150\n",
            "7/7 [==============================] - 1s 76ms/step - loss: 0.0012 - val_loss: 0.0509\n",
            "Epoch 10/150\n",
            "7/7 [==============================] - 0s 57ms/step - loss: 0.0011 - val_loss: 0.0514\n",
            "Epoch 11/150\n",
            "7/7 [==============================] - 0s 40ms/step - loss: 0.0011 - val_loss: 0.0512\n",
            "Epoch 12/150\n",
            "7/7 [==============================] - 0s 41ms/step - loss: 0.0011 - val_loss: 0.0504\n",
            "Epoch 13/150\n",
            "7/7 [==============================] - 0s 49ms/step - loss: 0.0010 - val_loss: 0.0490\n",
            "Epoch 14/150\n",
            "7/7 [==============================] - 0s 40ms/step - loss: 0.0010 - val_loss: 0.0485\n",
            "Epoch 15/150\n",
            "7/7 [==============================] - 0s 49ms/step - loss: 9.9357e-04 - val_loss: 0.0477\n",
            "Epoch 16/150\n",
            "7/7 [==============================] - 0s 42ms/step - loss: 9.7036e-04 - val_loss: 0.0470\n",
            "Epoch 17/150\n",
            "7/7 [==============================] - 0s 40ms/step - loss: 9.4929e-04 - val_loss: 0.0460\n",
            "Epoch 18/150\n",
            "7/7 [==============================] - 0s 52ms/step - loss: 9.2705e-04 - val_loss: 0.0453\n",
            "Epoch 19/150\n",
            "7/7 [==============================] - 0s 48ms/step - loss: 9.0667e-04 - val_loss: 0.0448\n",
            "Epoch 20/150\n",
            "7/7 [==============================] - 0s 43ms/step - loss: 8.8863e-04 - val_loss: 0.0445\n",
            "Epoch 21/150\n",
            "7/7 [==============================] - 0s 39ms/step - loss: 8.7156e-04 - val_loss: 0.0437\n",
            "Epoch 22/150\n",
            "7/7 [==============================] - 0s 44ms/step - loss: 8.5583e-04 - val_loss: 0.0426\n",
            "Epoch 23/150\n",
            "7/7 [==============================] - 0s 43ms/step - loss: 8.3863e-04 - val_loss: 0.0416\n",
            "Epoch 24/150\n",
            "7/7 [==============================] - 0s 43ms/step - loss: 8.2292e-04 - val_loss: 0.0408\n",
            "Epoch 25/150\n",
            "7/7 [==============================] - 0s 46ms/step - loss: 8.0789e-04 - val_loss: 0.0401\n",
            "Epoch 26/150\n",
            "7/7 [==============================] - 0s 45ms/step - loss: 7.9270e-04 - val_loss: 0.0397\n",
            "Epoch 27/150\n",
            "7/7 [==============================] - 0s 40ms/step - loss: 7.7584e-04 - val_loss: 0.0388\n",
            "Epoch 28/150\n",
            "7/7 [==============================] - 0s 40ms/step - loss: 7.6430e-04 - val_loss: 0.0374\n",
            "Epoch 29/150\n",
            "7/7 [==============================] - 0s 48ms/step - loss: 7.4346e-04 - val_loss: 0.0367\n",
            "Epoch 30/150\n",
            "7/7 [==============================] - 0s 42ms/step - loss: 7.2813e-04 - val_loss: 0.0354\n",
            "Epoch 31/150\n",
            "7/7 [==============================] - 0s 45ms/step - loss: 7.1402e-04 - val_loss: 0.0348\n",
            "Epoch 32/150\n",
            "7/7 [==============================] - 0s 40ms/step - loss: 6.9609e-04 - val_loss: 0.0337\n",
            "Epoch 33/150\n",
            "7/7 [==============================] - 0s 43ms/step - loss: 6.8111e-04 - val_loss: 0.0330\n",
            "Epoch 34/150\n",
            "7/7 [==============================] - 0s 43ms/step - loss: 6.6341e-04 - val_loss: 0.0326\n",
            "Epoch 35/150\n",
            "7/7 [==============================] - 0s 44ms/step - loss: 6.5191e-04 - val_loss: 0.0319\n",
            "Epoch 36/150\n",
            "7/7 [==============================] - 0s 43ms/step - loss: 6.3227e-04 - val_loss: 0.0308\n",
            "Epoch 37/150\n",
            "7/7 [==============================] - 0s 40ms/step - loss: 6.1526e-04 - val_loss: 0.0294\n",
            "Epoch 38/150\n",
            "7/7 [==============================] - 0s 40ms/step - loss: 5.9961e-04 - val_loss: 0.0284\n",
            "Epoch 39/150\n",
            "7/7 [==============================] - 0s 45ms/step - loss: 5.8530e-04 - val_loss: 0.0278\n",
            "Epoch 40/150\n",
            "7/7 [==============================] - 0s 42ms/step - loss: 5.6754e-04 - val_loss: 0.0272\n",
            "Epoch 41/150\n",
            "7/7 [==============================] - 0s 40ms/step - loss: 5.4801e-04 - val_loss: 0.0258\n",
            "Epoch 42/150\n",
            "7/7 [==============================] - 0s 45ms/step - loss: 5.3425e-04 - val_loss: 0.0248\n",
            "Epoch 43/150\n",
            "7/7 [==============================] - 0s 53ms/step - loss: 5.1668e-04 - val_loss: 0.0243\n",
            "Epoch 44/150\n",
            "7/7 [==============================] - 1s 81ms/step - loss: 5.0487e-04 - val_loss: 0.0238\n",
            "Epoch 45/150\n",
            "7/7 [==============================] - 1s 87ms/step - loss: 4.9124e-04 - val_loss: 0.0221\n",
            "Epoch 46/150\n",
            "7/7 [==============================] - 0s 75ms/step - loss: 4.6885e-04 - val_loss: 0.0218\n",
            "Epoch 47/150\n",
            "7/7 [==============================] - 1s 83ms/step - loss: 4.5210e-04 - val_loss: 0.0206\n",
            "Epoch 48/150\n",
            "7/7 [==============================] - 0s 40ms/step - loss: 4.3661e-04 - val_loss: 0.0194\n",
            "Epoch 49/150\n",
            "7/7 [==============================] - 0s 43ms/step - loss: 4.2079e-04 - val_loss: 0.0189\n",
            "Epoch 50/150\n",
            "7/7 [==============================] - 0s 46ms/step - loss: 4.0548e-04 - val_loss: 0.0181\n",
            "Epoch 51/150\n",
            "7/7 [==============================] - 0s 48ms/step - loss: 3.9009e-04 - val_loss: 0.0171\n",
            "Epoch 52/150\n",
            "7/7 [==============================] - 0s 44ms/step - loss: 3.7684e-04 - val_loss: 0.0160\n",
            "Epoch 53/150\n",
            "7/7 [==============================] - 0s 44ms/step - loss: 3.6115e-04 - val_loss: 0.0157\n",
            "Epoch 54/150\n",
            "7/7 [==============================] - 0s 50ms/step - loss: 3.4615e-04 - val_loss: 0.0146\n",
            "Epoch 55/150\n",
            "7/7 [==============================] - 0s 43ms/step - loss: 3.2927e-04 - val_loss: 0.0133\n",
            "Epoch 56/150\n",
            "7/7 [==============================] - 0s 40ms/step - loss: 3.1572e-04 - val_loss: 0.0125\n",
            "Epoch 57/150\n",
            "7/7 [==============================] - 0s 46ms/step - loss: 3.0195e-04 - val_loss: 0.0120\n",
            "Epoch 58/150\n",
            "7/7 [==============================] - 0s 40ms/step - loss: 2.8750e-04 - val_loss: 0.0111\n",
            "Epoch 59/150\n",
            "7/7 [==============================] - 0s 44ms/step - loss: 2.7696e-04 - val_loss: 0.0100\n",
            "Epoch 60/150\n",
            "7/7 [==============================] - 0s 48ms/step - loss: 2.6203e-04 - val_loss: 0.0096\n",
            "Epoch 61/150\n",
            "7/7 [==============================] - 0s 37ms/step - loss: 2.5511e-04 - val_loss: 0.0092\n",
            "Epoch 62/150\n",
            "7/7 [==============================] - 0s 39ms/step - loss: 2.4096e-04 - val_loss: 0.0079\n",
            "Epoch 63/150\n",
            "7/7 [==============================] - 0s 49ms/step - loss: 2.3108e-04 - val_loss: 0.0074\n",
            "Epoch 64/150\n",
            "7/7 [==============================] - 0s 37ms/step - loss: 2.2165e-04 - val_loss: 0.0070\n",
            "Epoch 65/150\n",
            "7/7 [==============================] - 0s 45ms/step - loss: 2.1081e-04 - val_loss: 0.0062\n",
            "Epoch 66/150\n",
            "7/7 [==============================] - 0s 49ms/step - loss: 2.0299e-04 - val_loss: 0.0055\n",
            "Epoch 67/150\n",
            "7/7 [==============================] - 0s 42ms/step - loss: 1.9784e-04 - val_loss: 0.0053\n",
            "Epoch 68/150\n",
            "7/7 [==============================] - 0s 43ms/step - loss: 1.8684e-04 - val_loss: 0.0044\n",
            "Epoch 69/150\n",
            "7/7 [==============================] - 0s 43ms/step - loss: 1.7979e-04 - val_loss: 0.0043\n",
            "Epoch 70/150\n",
            "7/7 [==============================] - 0s 46ms/step - loss: 1.7286e-04 - val_loss: 0.0037\n",
            "Epoch 71/150\n",
            "7/7 [==============================] - 0s 48ms/step - loss: 1.6600e-04 - val_loss: 0.0032\n",
            "Epoch 72/150\n",
            "7/7 [==============================] - 0s 40ms/step - loss: 1.6103e-04 - val_loss: 0.0029\n",
            "Epoch 73/150\n",
            "7/7 [==============================] - 0s 39ms/step - loss: 1.5833e-04 - val_loss: 0.0027\n",
            "Epoch 74/150\n",
            "7/7 [==============================] - 0s 41ms/step - loss: 1.5433e-04 - val_loss: 0.0022\n",
            "Epoch 75/150\n",
            "7/7 [==============================] - 0s 41ms/step - loss: 1.5568e-04 - val_loss: 0.0022\n",
            "Epoch 76/150\n",
            "7/7 [==============================] - 0s 38ms/step - loss: 1.4840e-04 - val_loss: 0.0018\n",
            "Epoch 77/150\n",
            "7/7 [==============================] - 0s 44ms/step - loss: 1.4382e-04 - val_loss: 0.0017\n",
            "Epoch 78/150\n",
            "7/7 [==============================] - 0s 39ms/step - loss: 1.4284e-04 - val_loss: 0.0015\n",
            "Epoch 79/150\n",
            "7/7 [==============================] - 0s 44ms/step - loss: 1.3788e-04 - val_loss: 0.0012\n",
            "Epoch 80/150\n",
            "7/7 [==============================] - 0s 48ms/step - loss: 1.4381e-04 - val_loss: 0.0011\n",
            "Epoch 81/150\n",
            "7/7 [==============================] - 0s 53ms/step - loss: 1.4314e-04 - val_loss: 0.0012\n",
            "Epoch 82/150\n",
            "7/7 [==============================] - 1s 81ms/step - loss: 1.3544e-04 - val_loss: 9.3086e-04\n",
            "Epoch 83/150\n",
            "7/7 [==============================] - 0s 71ms/step - loss: 1.3395e-04 - val_loss: 9.3052e-04\n",
            "Epoch 84/150\n",
            "7/7 [==============================] - 0s 72ms/step - loss: 1.3290e-04 - val_loss: 8.9175e-04\n",
            "Epoch 85/150\n",
            "7/7 [==============================] - 1s 86ms/step - loss: 1.3189e-04 - val_loss: 7.7452e-04\n",
            "Epoch 86/150\n",
            "7/7 [==============================] - 0s 44ms/step - loss: 1.3067e-04 - val_loss: 7.4375e-04\n",
            "Epoch 87/150\n",
            "7/7 [==============================] - 0s 40ms/step - loss: 1.3018e-04 - val_loss: 6.5426e-04\n",
            "Epoch 88/150\n",
            "7/7 [==============================] - 0s 52ms/step - loss: 1.3035e-04 - val_loss: 6.7746e-04\n",
            "Epoch 89/150\n",
            "7/7 [==============================] - 0s 39ms/step - loss: 1.3059e-04 - val_loss: 6.5638e-04\n",
            "Epoch 90/150\n",
            "7/7 [==============================] - 0s 43ms/step - loss: 1.2779e-04 - val_loss: 5.7412e-04\n",
            "Epoch 91/150\n",
            "7/7 [==============================] - 0s 38ms/step - loss: 1.3299e-04 - val_loss: 5.3548e-04\n",
            "Epoch 92/150\n",
            "7/7 [==============================] - 0s 37ms/step - loss: 1.2884e-04 - val_loss: 6.2052e-04\n",
            "Epoch 93/150\n",
            "7/7 [==============================] - 0s 48ms/step - loss: 1.2921e-04 - val_loss: 5.1956e-04\n",
            "Epoch 94/150\n",
            "7/7 [==============================] - 0s 39ms/step - loss: 1.2780e-04 - val_loss: 5.3625e-04\n",
            "Epoch 95/150\n",
            "7/7 [==============================] - 0s 40ms/step - loss: 1.3088e-04 - val_loss: 5.9328e-04\n",
            "Epoch 96/150\n",
            "7/7 [==============================] - 0s 40ms/step - loss: 1.2555e-04 - val_loss: 4.5152e-04\n",
            "Epoch 97/150\n",
            "7/7 [==============================] - 0s 42ms/step - loss: 1.2849e-04 - val_loss: 4.8867e-04\n",
            "Epoch 98/150\n",
            "7/7 [==============================] - 0s 40ms/step - loss: 1.2519e-04 - val_loss: 5.2857e-04\n",
            "Epoch 99/150\n",
            "7/7 [==============================] - 0s 48ms/step - loss: 1.2564e-04 - val_loss: 4.8114e-04\n",
            "Epoch 100/150\n",
            "7/7 [==============================] - 0s 47ms/step - loss: 1.2548e-04 - val_loss: 4.6532e-04\n",
            "Epoch 101/150\n",
            "7/7 [==============================] - 0s 45ms/step - loss: 1.2676e-04 - val_loss: 4.9876e-04\n",
            "Epoch 102/150\n",
            "7/7 [==============================] - 0s 43ms/step - loss: 1.2299e-04 - val_loss: 4.2563e-04\n",
            "Epoch 103/150\n",
            "7/7 [==============================] - 0s 46ms/step - loss: 1.2643e-04 - val_loss: 4.3622e-04\n",
            "Epoch 104/150\n",
            "7/7 [==============================] - 0s 47ms/step - loss: 1.2305e-04 - val_loss: 4.8704e-04\n",
            "Epoch 105/150\n",
            "7/7 [==============================] - 0s 47ms/step - loss: 1.2839e-04 - val_loss: 4.7451e-04\n",
            "Epoch 106/150\n",
            "7/7 [==============================] - 0s 40ms/step - loss: 1.2466e-04 - val_loss: 4.1086e-04\n",
            "Epoch 107/150\n",
            "7/7 [==============================] - 0s 45ms/step - loss: 1.2477e-04 - val_loss: 4.6568e-04\n",
            "Epoch 108/150\n",
            "7/7 [==============================] - 0s 40ms/step - loss: 1.2271e-04 - val_loss: 4.3067e-04\n",
            "Epoch 109/150\n",
            "7/7 [==============================] - 0s 42ms/step - loss: 1.2333e-04 - val_loss: 4.4239e-04\n",
            "Epoch 110/150\n",
            "7/7 [==============================] - 0s 39ms/step - loss: 1.2484e-04 - val_loss: 4.6701e-04\n",
            "Epoch 111/150\n",
            "7/7 [==============================] - 0s 39ms/step - loss: 1.2552e-04 - val_loss: 4.0401e-04\n",
            "Epoch 112/150\n",
            "7/7 [==============================] - 0s 43ms/step - loss: 1.2160e-04 - val_loss: 4.7100e-04\n",
            "Epoch 113/150\n",
            "7/7 [==============================] - 0s 37ms/step - loss: 1.2459e-04 - val_loss: 4.3575e-04\n",
            "Epoch 114/150\n",
            "7/7 [==============================] - 0s 40ms/step - loss: 1.2116e-04 - val_loss: 4.3348e-04\n",
            "Epoch 115/150\n",
            "7/7 [==============================] - 0s 39ms/step - loss: 1.2134e-04 - val_loss: 4.0952e-04\n",
            "Epoch 116/150\n",
            "7/7 [==============================] - 0s 49ms/step - loss: 1.2455e-04 - val_loss: 3.9919e-04\n",
            "Epoch 117/150\n",
            "7/7 [==============================] - 0s 44ms/step - loss: 1.2276e-04 - val_loss: 4.7039e-04\n",
            "Epoch 118/150\n",
            "7/7 [==============================] - 0s 45ms/step - loss: 1.2094e-04 - val_loss: 4.1250e-04\n",
            "Epoch 119/150\n",
            "7/7 [==============================] - 0s 57ms/step - loss: 1.2140e-04 - val_loss: 4.1344e-04\n",
            "Epoch 120/150\n",
            "7/7 [==============================] - 1s 78ms/step - loss: 1.2048e-04 - val_loss: 4.5153e-04\n",
            "Epoch 121/150\n",
            "7/7 [==============================] - 1s 83ms/step - loss: 1.2149e-04 - val_loss: 4.1077e-04\n",
            "Epoch 122/150\n",
            "7/7 [==============================] - 1s 80ms/step - loss: 1.2019e-04 - val_loss: 4.4591e-04\n",
            "Epoch 123/150\n",
            "7/7 [==============================] - 1s 80ms/step - loss: 1.1922e-04 - val_loss: 4.0801e-04\n",
            "Epoch 124/150\n",
            "7/7 [==============================] - 0s 41ms/step - loss: 1.2269e-04 - val_loss: 4.3550e-04\n",
            "Epoch 125/150\n",
            "7/7 [==============================] - 0s 39ms/step - loss: 1.2065e-04 - val_loss: 4.6726e-04\n",
            "Epoch 126/150\n",
            "7/7 [==============================] - 0s 39ms/step - loss: 1.1970e-04 - val_loss: 3.9205e-04\n",
            "Epoch 127/150\n",
            "7/7 [==============================] - 0s 48ms/step - loss: 1.1983e-04 - val_loss: 4.4598e-04\n",
            "Epoch 128/150\n",
            "7/7 [==============================] - 0s 42ms/step - loss: 1.2089e-04 - val_loss: 4.3867e-04\n",
            "Epoch 129/150\n",
            "7/7 [==============================] - 0s 43ms/step - loss: 1.1798e-04 - val_loss: 3.9545e-04\n",
            "Epoch 130/150\n",
            "7/7 [==============================] - 0s 40ms/step - loss: 1.1901e-04 - val_loss: 4.4103e-04\n",
            "Epoch 131/150\n",
            "7/7 [==============================] - 0s 41ms/step - loss: 1.2359e-04 - val_loss: 4.2638e-04\n",
            "Epoch 132/150\n",
            "7/7 [==============================] - 0s 40ms/step - loss: 1.2484e-04 - val_loss: 3.9242e-04\n",
            "Epoch 133/150\n",
            "7/7 [==============================] - 0s 41ms/step - loss: 1.1846e-04 - val_loss: 4.8767e-04\n",
            "Epoch 134/150\n",
            "7/7 [==============================] - 0s 44ms/step - loss: 1.1954e-04 - val_loss: 4.2219e-04\n",
            "Epoch 135/150\n",
            "7/7 [==============================] - 0s 40ms/step - loss: 1.1804e-04 - val_loss: 4.4744e-04\n",
            "Epoch 136/150\n",
            "7/7 [==============================] - 0s 38ms/step - loss: 1.1778e-04 - val_loss: 4.6567e-04\n",
            "Epoch 137/150\n",
            "7/7 [==============================] - 0s 39ms/step - loss: 1.1756e-04 - val_loss: 4.4981e-04\n",
            "Epoch 138/150\n",
            "7/7 [==============================] - 0s 45ms/step - loss: 1.1818e-04 - val_loss: 4.2233e-04\n",
            "Epoch 139/150\n",
            "7/7 [==============================] - 0s 40ms/step - loss: 1.1772e-04 - val_loss: 4.7639e-04\n",
            "Epoch 140/150\n",
            "7/7 [==============================] - 0s 44ms/step - loss: 1.1675e-04 - val_loss: 4.1950e-04\n",
            "Epoch 141/150\n",
            "7/7 [==============================] - 0s 44ms/step - loss: 1.2021e-04 - val_loss: 4.6199e-04\n",
            "Epoch 142/150\n",
            "7/7 [==============================] - 0s 44ms/step - loss: 1.2148e-04 - val_loss: 4.7731e-04\n",
            "Epoch 143/150\n",
            "7/7 [==============================] - 0s 39ms/step - loss: 1.1787e-04 - val_loss: 4.1412e-04\n",
            "Epoch 144/150\n",
            "7/7 [==============================] - 0s 42ms/step - loss: 1.1554e-04 - val_loss: 4.7662e-04\n",
            "Epoch 145/150\n",
            "7/7 [==============================] - 0s 38ms/step - loss: 1.1821e-04 - val_loss: 4.5838e-04\n",
            "Epoch 146/150\n",
            "7/7 [==============================] - 0s 49ms/step - loss: 1.1542e-04 - val_loss: 4.1310e-04\n",
            "Epoch 147/150\n",
            "7/7 [==============================] - 0s 39ms/step - loss: 1.1585e-04 - val_loss: 4.6670e-04\n",
            "Epoch 148/150\n",
            "7/7 [==============================] - 0s 40ms/step - loss: 1.1563e-04 - val_loss: 4.4181e-04\n",
            "Epoch 149/150\n",
            "7/7 [==============================] - 0s 40ms/step - loss: 1.1506e-04 - val_loss: 4.5849e-04\n",
            "Epoch 150/150\n",
            "7/7 [==============================] - 0s 43ms/step - loss: 1.1438e-04 - val_loss: 4.1870e-04\n"
          ]
        }
      ]
    },
    {
      "cell_type": "code",
      "source": [
        "loss = history.history['loss']\n",
        "val_loss = history.history['val_loss']\n",
        "\n",
        "epochs = range(len(loss))\n",
        "\n",
        "plt.plot(epochs,loss, 'r', label= \"Training Loss\")\n",
        "plt.plot(epochs, val_loss, 'y', label= \"Validation Loss\")\n",
        "plt.title('Loss Values')\n",
        "\n",
        "plt.show()"
      ],
      "metadata": {
        "colab": {
          "base_uri": "https://localhost:8080/",
          "height": 452
        },
        "id": "u1CzffCOuoZb",
        "outputId": "4e7eb81f-6396-4609-c0b5-0326a38e45eb"
      },
      "execution_count": 61,
      "outputs": [
        {
          "output_type": "display_data",
          "data": {
            "text/plain": [
              "<Figure size 640x480 with 1 Axes>"
            ],
            "image/png": "[encoded data removed]"
          },
          "metadata": {}
        }
      ]
    },
    {
      "cell_type": "code",
      "source": [
        "train_predict = model.predict(X_train)\n",
        "test_predict = model.predict(X_test)\n",
        "train_predict.shape, test_predict.shape"
      ],
      "metadata": {
        "colab": {
          "base_uri": "https://localhost:8080/"
        },
        "id": "tsGeVKtkuu37",
        "outputId": "b4c928ac-99c8-4b75-e51f-fc25ec5b92a4"
      },
      "execution_count": 62,
      "outputs": [
        {
          "output_type": "stream",
          "name": "stdout",
          "text": [
            "7/7 [==============================] - 0s 6ms/step\n",
            "5/5 [==============================] - 0s 7ms/step\n"
          ]
        },
        {
          "output_type": "execute_result",
          "data": {
            "text/plain": [
              "((203, 1), (131, 1))"
            ]
          },
          "metadata": {},
          "execution_count": 62
        }
      ]
    },
    {
      "cell_type": "code",
      "source": [
        "train_predict = scaler.inverse_transform(train_predict)\n",
        "test_predict = scaler.inverse_transform(test_predict)\n",
        "original_ytrain = scaler.inverse_transform(y_train.reshape(-1,1))\n",
        "original_ytest= scaler.inverse_transform(y_test.reshape(-1,1))\n"
      ],
      "metadata": {
        "id": "oZQHBgtQuyik"
      },
      "execution_count": 63,
      "outputs": []
    },
    {
      "cell_type": "code",
      "source": [
        "from sklearn.metrics import mean_squared_error, mean_absolute_error\n",
        "#TRAINING\n",
        "\n",
        "print(\"Train Data RMSE: \",math.sqrt(mean_squared_error(original_ytrain, train_predict)))\n",
        "print(\"Train Data MSE: \", mean_squared_error(original_ytrain, train_predict))\n",
        "print(\"Train Data MAE: \", mean_absolute_error(original_ytrain, train_predict))\n",
        "\n",
        "#TEST\n",
        "\n",
        "print(\"Test Data RMSE: \",math.sqrt(mean_squared_error(original_ytest, test_predict)))\n",
        "print(\"Test Data MSE: \" ,mean_squared_error(original_ytest, test_predict))\n",
        "print(\"Test Data MAE: \" ,mean_absolute_error(original_ytest, test_predict))\n"
      ],
      "metadata": {
        "colab": {
          "base_uri": "https://localhost:8080/"
        },
        "id": "mXturNz0u1-j",
        "outputId": "bab5ccdd-fad7-472d-daa8-79704c4560de"
      },
      "execution_count": 64,
      "outputs": [
        {
          "output_type": "stream",
          "name": "stdout",
          "text": [
            "Train Data RMSE:  377.3549467628784\n",
            "Train Data MSE:  142396.75584641477\n",
            "Train Data MAE:  243.54267048552958\n",
            "Test Data RMSE:  719.7836108173101\n",
            "Test Data MSE:  518088.446401205\n",
            "Test Data MAE:  463.8572802371183\n"
          ]
        }
      ]
    },
    {
      "cell_type": "markdown",
      "source": [
        "RESULT:\n",
        "\n",
        "ACCORDING TO THE RESULTS BOTH FROM LSTM AND GRU TRAININGS, WHEN WE COMPARE THE METRICS OF THEM WITH EACH OTHER, WE CAN CONCLUDE THAT GRU PERFORMED BETTER. GRU INDICATES THAT MODEL PERFORMS BETTER IN TERMS OF ACCURACY AND PREDICTION ERROR BOTH IN THE TRAINING AND TEST DATASETS."
      ],
      "metadata": {
        "id": "p00Z9_SAQg1v"
      }
    }
  ]
}